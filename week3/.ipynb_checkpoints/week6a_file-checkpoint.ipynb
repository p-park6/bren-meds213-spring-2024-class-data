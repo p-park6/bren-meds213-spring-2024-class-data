{
 "cells": [
  {
   "cell_type": "code",
   "execution_count": 7,
   "id": "45d33618-7f68-47de-8165-e3c640d56bbc",
   "metadata": {
    "tags": []
   },
   "outputs": [],
   "source": [
    "import duckdb"
   ]
  },
  {
   "cell_type": "markdown",
   "id": "a4bc68aa-1790-4b00-abde-f96b45afe828",
   "metadata": {},
   "source": [
    "Example of Jupyter \"magic command\":"
   ]
  },
  {
   "cell_type": "code",
   "execution_count": 8,
   "id": "f3a95202-0d36-42bd-8755-f5fafe2f0a9c",
   "metadata": {
    "tags": []
   },
   "outputs": [
    {
     "data": {
      "text/plain": [
       "'/Users/p_park/spring_2024/eds_213_data/bren-meds213-spring-2024-class-data/week3'"
      ]
     },
     "execution_count": 8,
     "metadata": {},
     "output_type": "execute_result"
    }
   ],
   "source": [
    "%pwd"
   ]
  },
  {
   "cell_type": "code",
   "execution_count": 9,
   "id": "358b1dbd-520e-4b91-8d4c-1aec31563670",
   "metadata": {},
   "outputs": [
    {
     "name": "stdout",
     "output_type": "stream",
     "text": [
      "01_ASDN_Readme.txt        addition.sh          schema-build-script.sql\n",
      "ASDN_Bird_eggs.csv        asdn-er-diagram.png  script_2.sql\n",
      "ASDN_Bird_nests.csv       \u001b[0m\u001b[01;32mbuild-database\u001b[0m*      site.csv\n",
      "ASDN_Camp_assignment.csv  database.db          species.csv\n",
      "\u001b[01;34mHW\u001b[0m/                       database.db.wal      sql-continued.sql\n",
      "Untitled.ipynb            personnel.csv        theloop.sh\n"
     ]
    }
   ],
   "source": [
    "%ls"
   ]
  },
  {
   "cell_type": "markdown",
   "id": "05587179-c2d4-4350-a320-667bb975e05e",
   "metadata": {},
   "source": [
    "To install Duckdb module:"
   ]
  },
  {
   "cell_type": "code",
   "execution_count": 10,
   "id": "46e8e142-c139-4fea-8d5a-49c453608cba",
   "metadata": {
    "tags": []
   },
   "outputs": [],
   "source": [
    "#%pip install duckdb"
   ]
  },
  {
   "cell_type": "markdown",
   "id": "d053531d-ba81-4a69-acf1-1220962b9171",
   "metadata": {},
   "source": [
    "1. Create a connection and a cursor"
   ]
  },
  {
   "cell_type": "code",
   "execution_count": 11,
   "id": "d37b4c04-fec2-4769-b7e4-af4529dc12c1",
   "metadata": {
    "tags": []
   },
   "outputs": [],
   "source": [
    "conn = duckdb.connect(\"database.db\")"
   ]
  },
  {
   "cell_type": "code",
   "execution_count": 12,
   "id": "db7ca24a-73a3-449c-9d5b-4aa6f8953dd3",
   "metadata": {
    "tags": []
   },
   "outputs": [
    {
     "data": {
      "text/plain": [
       "<duckdb.duckdb.DuckDBPyConnection at 0x7f3a386a21f0>"
      ]
     },
     "execution_count": 12,
     "metadata": {},
     "output_type": "execute_result"
    }
   ],
   "source": [
    "conn"
   ]
  },
  {
   "cell_type": "code",
   "execution_count": 16,
   "id": "f3053ebe-ea78-497c-91ab-09156d566751",
   "metadata": {
    "tags": []
   },
   "outputs": [],
   "source": [
    "cur = conn.cursor()"
   ]
  },
  {
   "cell_type": "markdown",
   "id": "5cd7d831-3cae-44db-afc2-cefaab3a59a5",
   "metadata": {},
   "source": [
    "Now let's do something with our cursor"
   ]
  },
  {
   "cell_type": "code",
   "execution_count": 17,
   "id": "6e77de96-2758-4025-8b86-3a0a74bbf854",
   "metadata": {
    "tags": []
   },
   "outputs": [
    {
     "data": {
      "text/plain": [
       "<duckdb.duckdb.DuckDBPyConnection at 0x7f3a3869e070>"
      ]
     },
     "execution_count": 17,
     "metadata": {},
     "output_type": "execute_result"
    }
   ],
   "source": [
    "cur.execute(\"SELECT * FROM Site LIMIT 5\")"
   ]
  },
  {
   "cell_type": "markdown",
   "id": "d3ee8ec4-03b9-4ea5-90fc-39313489f820",
   "metadata": {},
   "source": [
    "Now we want results... three ways of getting them.\n",
    "\n",
    "1. All results at once"
   ]
  },
  {
   "cell_type": "code",
   "execution_count": 18,
   "id": "04d03733-c2ee-47f9-89aa-3f443196c4bc",
   "metadata": {
    "tags": []
   },
   "outputs": [
    {
     "data": {
      "text/plain": [
       "[('barr',\n",
       "  'Barrow',\n",
       "  'Alaska, USA',\n",
       "  71.30000305175781,\n",
       "  -156.60000610351562,\n",
       "  220.39999389648438),\n",
       " ('burn',\n",
       "  'Burntpoint Creek',\n",
       "  'Ontario, Canada',\n",
       "  55.20000076293945,\n",
       "  -84.30000305175781,\n",
       "  63.0),\n",
       " ('bylo',\n",
       "  'Bylot Island',\n",
       "  'Nunavut, Canada',\n",
       "  73.19999694824219,\n",
       "  -80.0,\n",
       "  723.5999755859375),\n",
       " ('cakr',\n",
       "  'Cape Krusenstern',\n",
       "  'Alaska, USA',\n",
       "  67.0999984741211,\n",
       "  -163.5,\n",
       "  54.099998474121094),\n",
       " ('cari',\n",
       "  'Canning River Delta',\n",
       "  'Alaska, USA',\n",
       "  70.0999984741211,\n",
       "  -145.8000030517578,\n",
       "  722.0)]"
      ]
     },
     "execution_count": 18,
     "metadata": {},
     "output_type": "execute_result"
    }
   ],
   "source": [
    "cur.fetchall()"
   ]
  },
  {
   "cell_type": "markdown",
   "id": "32818ac1-7d6a-4f42-936d-40080ede762a",
   "metadata": {},
   "source": [
    "Cursors don't store anything, they just transfer queries to the database ang get results back."
   ]
  },
  {
   "cell_type": "code",
   "execution_count": 19,
   "id": "350134e6-5d47-494b-8f2a-52f33ee4c9b3",
   "metadata": {
    "tags": []
   },
   "outputs": [
    {
     "data": {
      "text/plain": [
       "[]"
      ]
     },
     "execution_count": 19,
     "metadata": {},
     "output_type": "execute_result"
    }
   ],
   "source": [
    "cur.fetchall()"
   ]
  },
  {
   "cell_type": "code",
   "execution_count": 22,
   "id": "8b8f0520-cf99-4bb6-8e85-57751faaff41",
   "metadata": {
    "tags": []
   },
   "outputs": [
    {
     "data": {
      "text/plain": [
       "<duckdb.duckdb.DuckDBPyConnection at 0x7f3a3869e070>"
      ]
     },
     "execution_count": 22,
     "metadata": {},
     "output_type": "execute_result"
    }
   ],
   "source": [
    "cur.execute(\"SELECT Nest_ID FROM Bird_nests LIMIT 10\")"
   ]
  },
  {
   "cell_type": "code",
   "execution_count": 23,
   "id": "7a1005d8-249a-4158-9242-05bdb953bd00",
   "metadata": {
    "tags": []
   },
   "outputs": [
    {
     "data": {
      "text/plain": [
       "[('14HPE1',),\n",
       " ('11eaba',),\n",
       " ('11eabaagc01',),\n",
       " ('11eabaagv01',),\n",
       " ('11eababbc02',),\n",
       " ('11eababsv01',),\n",
       " ('11eabaduh01',),\n",
       " ('11eabaduv01',),\n",
       " ('11eabarpc01',),\n",
       " ('11eabarpc02',)]"
      ]
     },
     "execution_count": 23,
     "metadata": {},
     "output_type": "execute_result"
    }
   ],
   "source": [
    "cur.fetchall()"
   ]
  },
  {
   "cell_type": "code",
   "execution_count": 25,
   "id": "8bbe08db-e3b2-4aba-a2fb-702a4328fe47",
   "metadata": {
    "tags": []
   },
   "outputs": [
    {
     "data": {
      "text/plain": [
       "['14HPE1',\n",
       " '11eaba',\n",
       " '11eabaagc01',\n",
       " '11eabaagv01',\n",
       " '11eababbc02',\n",
       " '11eababsv01',\n",
       " '11eabaduh01',\n",
       " '11eabaduv01',\n",
       " '11eabarpc01',\n",
       " '11eabarpc02']"
      ]
     },
     "execution_count": 25,
     "metadata": {},
     "output_type": "execute_result"
    }
   ],
   "source": [
    "cur.execute(\"SELECT Nest_ID FROM Bird_nests LIMIT 10\")\n",
    "[t[0] for t in cur.fetchall()]\n",
    "\n",
    "#how to read: for each tuple 't', in cur.fetchall(), give me the first element."
   ]
  },
  {
   "cell_type": "markdown",
   "id": "d59317e6-803b-482f-91f1-f172979f4bcc",
   "metadata": {},
   "source": [
    "2. Get the one result, or the next result"
   ]
  },
  {
   "cell_type": "code",
   "execution_count": 27,
   "id": "9ab166ce-bd24-472a-a553-62592fc78fda",
   "metadata": {
    "tags": []
   },
   "outputs": [
    {
     "data": {
      "text/plain": [
       "(1547,)"
      ]
     },
     "execution_count": 27,
     "metadata": {},
     "output_type": "execute_result"
    }
   ],
   "source": [
    "cur.execute(\"SELECT COUNT(*) FROM Bird_nests\")\n",
    "cur.fetchone()"
   ]
  },
  {
   "cell_type": "code",
   "execution_count": 29,
   "id": "da77ca60-ecec-42c7-bbf4-a0ac2d462151",
   "metadata": {
    "tags": []
   },
   "outputs": [
    {
     "data": {
      "text/plain": [
       "1547"
      ]
     },
     "execution_count": 29,
     "metadata": {},
     "output_type": "execute_result"
    }
   ],
   "source": [
    "cur.execute(\"SELECT COUNT(*) FROM Bird_nests\")\n",
    "cur.fetchone()[0]"
   ]
  },
  {
   "cell_type": "markdown",
   "id": "60a90957-f24a-459b-94ce-61ba84b6fb80",
   "metadata": {},
   "source": [
    "3. Using an iterator - but Duckdb doesn't support iterators :("
   ]
  },
  {
   "cell_type": "code",
   "execution_count": 30,
   "id": "8b82ed3b-c5ea-455f-a093-78e98209970a",
   "metadata": {
    "tags": []
   },
   "outputs": [
    {
     "ename": "TypeError",
     "evalue": "'duckdb.duckdb.DuckDBPyConnection' object is not iterable",
     "output_type": "error",
     "traceback": [
      "\u001b[0;31m---------------------------------------------------------------------------\u001b[0m",
      "\u001b[0;31mTypeError\u001b[0m                                 Traceback (most recent call last)",
      "\u001b[0;32m/tmp/ipykernel_770342/776395307.py\u001b[0m in \u001b[0;36m<module>\u001b[0;34m\u001b[0m\n\u001b[1;32m      1\u001b[0m \u001b[0mcur\u001b[0m\u001b[0;34m.\u001b[0m\u001b[0mexecute\u001b[0m\u001b[0;34m(\u001b[0m\u001b[0;34m\"SELECT Nest_ID FROM Bird_nests LIMIT 10\"\u001b[0m\u001b[0;34m)\u001b[0m\u001b[0;34m\u001b[0m\u001b[0;34m\u001b[0m\u001b[0m\n\u001b[0;32m----> 2\u001b[0;31m \u001b[0;32mfor\u001b[0m \u001b[0mrow\u001b[0m \u001b[0;32min\u001b[0m \u001b[0mcur\u001b[0m\u001b[0;34m:\u001b[0m\u001b[0;34m\u001b[0m\u001b[0;34m\u001b[0m\u001b[0m\n\u001b[0m\u001b[1;32m      3\u001b[0m     \u001b[0mprint\u001b[0m\u001b[0;34m(\u001b[0m\u001b[0;34mf\"got {row[0]}\"\u001b[0m\u001b[0;34m)\u001b[0m\u001b[0;34m\u001b[0m\u001b[0;34m\u001b[0m\u001b[0m\n\u001b[1;32m      4\u001b[0m \u001b[0;31m#this does not work\u001b[0m\u001b[0;34m\u001b[0m\u001b[0;34m\u001b[0m\u001b[0;34m\u001b[0m\u001b[0m\n",
      "\u001b[0;31mTypeError\u001b[0m: 'duckdb.duckdb.DuckDBPyConnection' object is not iterable"
     ]
    }
   ],
   "source": [
    "cur.execute(\"SELECT Nest_ID FROM Bird_nests LIMIT 10\")\n",
    "for row in cur:\n",
    "    print(f\"got {row[0]}\")\n",
    "#this does not work"
   ]
  },
  {
   "cell_type": "code",
   "execution_count": 32,
   "id": "c7276466-c4f5-4d11-a78c-d56ab2faa894",
   "metadata": {
    "tags": []
   },
   "outputs": [
    {
     "name": "stdout",
     "output_type": "stream",
     "text": [
      "got nest ID 14HPE1\n",
      "got nest ID 11eaba\n",
      "got nest ID 11eabaagc01\n",
      "got nest ID 11eabaagv01\n",
      "got nest ID 11eababbc02\n",
      "got nest ID 11eababsv01\n",
      "got nest ID 11eabaduh01\n",
      "got nest ID 11eabaduv01\n",
      "got nest ID 11eabarpc01\n",
      "got nest ID 11eabarpc02\n"
     ]
    }
   ],
   "source": [
    "cur.execute(\"SELECT Nest_ID FROM Bird_nests LIMIT 10\")\n",
    "while True:\n",
    "    row = cur.fetchone()\n",
    "    if row == None:\n",
    "        break\n",
    "    #do something with row\n",
    "    print(f\"got nest ID {row[0]}\")"
   ]
  },
  {
   "cell_type": "markdown",
   "id": "7bb3f2c2-9eb0-4b10-9959-317c1793e29a",
   "metadata": {},
   "source": [
    "Can do things other than SELECT!"
   ]
  },
  {
   "cell_type": "code",
   "execution_count": 33,
   "id": "a29a6568-aec0-4ebc-9126-15450d2c8f2a",
   "metadata": {
    "tags": []
   },
   "outputs": [
    {
     "data": {
      "text/plain": [
       "<duckdb.duckdb.DuckDBPyConnection at 0x7f3a3869e070>"
      ]
     },
     "execution_count": 33,
     "metadata": {},
     "output_type": "execute_result"
    }
   ],
   "source": [
    "cur.execute(\"\"\"\n",
    "    CREATE TEMP TABLE temp_table AS\n",
    "    SELECT * FROM Bird_nests LIMIT 10\n",
    "\"\"\")"
   ]
  },
  {
   "cell_type": "code",
   "execution_count": 34,
   "id": "21a9388c-2fcc-4157-bcbe-cbd91372eec2",
   "metadata": {
    "tags": []
   },
   "outputs": [
    {
     "data": {
      "text/plain": [
       "<duckdb.duckdb.DuckDBPyConnection at 0x7f3a3869e070>"
      ]
     },
     "execution_count": 34,
     "metadata": {},
     "output_type": "execute_result"
    }
   ],
   "source": [
    "cur.execute(\"SELECT * FROM temp_table\")"
   ]
  },
  {
   "cell_type": "code",
   "execution_count": 36,
   "id": "b547a8ed-eef7-4b26-a521-d372fe92f34e",
   "metadata": {
    "tags": []
   },
   "outputs": [
    {
     "data": {
      "text/plain": [
       "[]"
      ]
     },
     "execution_count": 36,
     "metadata": {},
     "output_type": "execute_result"
    }
   ],
   "source": [
    "cur.fetchall()"
   ]
  },
  {
   "cell_type": "markdown",
   "id": "f8fd0c32-40fd-4a30-93ea-c7108996de13",
   "metadata": {},
   "source": [
    "A note on fragility\n",
    "\n",
    "For example:\n",
    "INSERT INTO Site VALUES (\"abcd\", \"FOO\", 35.7, -119.5, \"?\")\n",
    "\n",
    "A less fragile way of expressing the same thing:\n",
    "INSERT INTO Site (Code, Site_name, Latitude, Longitude, Something_else)\n",
    "    VALUES (\"abcd\", \"FOO\", 35.7, -119.5, \"?\")\n",
    "    \n",
    "In the same vein: SELECT * is fragile"
   ]
  },
  {
   "cell_type": "code",
   "execution_count": 37,
   "id": "1a9b0d25-f8e7-4034-bb8d-470dc649b2f0",
   "metadata": {
    "tags": []
   },
   "outputs": [
    {
     "data": {
      "text/plain": [
       "[('barr',\n",
       "  'Barrow',\n",
       "  'Alaska, USA',\n",
       "  71.30000305175781,\n",
       "  -156.60000610351562,\n",
       "  220.39999389648438),\n",
       " ('burn',\n",
       "  'Burntpoint Creek',\n",
       "  'Ontario, Canada',\n",
       "  55.20000076293945,\n",
       "  -84.30000305175781,\n",
       "  63.0),\n",
       " ('bylo',\n",
       "  'Bylot Island',\n",
       "  'Nunavut, Canada',\n",
       "  73.19999694824219,\n",
       "  -80.0,\n",
       "  723.5999755859375)]"
      ]
     },
     "execution_count": 37,
     "metadata": {},
     "output_type": "execute_result"
    }
   ],
   "source": [
    "cur.execute(\"SELECT * FROM Site LIMIT 3\")\n",
    "cur.fetchall()"
   ]
  },
  {
   "cell_type": "code",
   "execution_count": 38,
   "id": "016dfa0d-492a-4574-8b7d-4ce78e2ec00c",
   "metadata": {
    "tags": []
   },
   "outputs": [
    {
     "data": {
      "text/plain": [
       "[('Barrow', 'barr', 71.30000305175781, -156.60000610351562),\n",
       " ('Burntpoint Creek', 'burn', 55.20000076293945, -84.30000305175781),\n",
       " ('Bylot Island', 'bylo', 73.19999694824219, -80.0)]"
      ]
     },
     "execution_count": 38,
     "metadata": {},
     "output_type": "execute_result"
    }
   ],
   "source": [
    "cur.execute(\"SELECT Site_name, Code, Latitude, Longitude, FROM Site LIMIT 3\")\n",
    "cur.fetchall()"
   ]
  },
  {
   "cell_type": "markdown",
   "id": "176cee17-af77-4acf-b2f6-bed2cc2d9d93",
   "metadata": {},
   "source": [
    "An extended example: Question we're trying to answer: How many nests do we have for each species?\n",
    "\n",
    "Approach: first get all species. Then execute a count query for each species."
   ]
  },
  {
   "cell_type": "markdown",
   "id": "f8f28a8c-4d86-4179-9408-ca7ec6cef7e2",
   "metadata": {},
   "source": [
    "A digression: string interpolation in Python"
   ]
  },
  {
   "cell_type": "code",
   "execution_count": 42,
   "id": "cb4f30af-0f7d-4274-96df-0968a8abc162",
   "metadata": {
    "tags": []
   },
   "outputs": [
    {
     "name": "stdout",
     "output_type": "stream",
     "text": [
      "My name is Patty\n",
      "My name is Patty and my professor's name is Greg\n",
      "My name is Patty\n",
      "My name is Patty\n"
     ]
    }
   ],
   "source": [
    "s = \"My name is %s\"\n",
    "print(s % \"Patty\")\n",
    "\n",
    "s = \"My name is %s and my professor's name is %s\"\n",
    "print(s % (\"Patty\", \"Greg\"))\n",
    "\n",
    "#the new f-string\n",
    "name = \"Patty\"\n",
    "print(f\"My name is {name}\")\n",
    "#Third way\n",
    "print(\"My name is {}\".format(\"Patty\"))"
   ]
  },
  {
   "cell_type": "code",
   "execution_count": 44,
   "id": "052478cc-c3e0-47de-b3e3-b9768109778d",
   "metadata": {
    "tags": []
   },
   "outputs": [
    {
     "name": "stdout",
     "output_type": "stream",
     "text": [
      "Species agsq has 0 nests\n",
      "Species amcr has 0 nests\n",
      "Species amgp has 29 nests\n"
     ]
    }
   ],
   "source": [
    "query = \"\"\"\n",
    "    SELECT COUNT(*) FROM Bird_nests\n",
    "    WHERE Species = '%s'\n",
    "\"\"\"\n",
    "cur.execute(\"SELECT Code FROM Species LIMIT 3\")\n",
    "for row in cur.fetchall(): #duckdb workaround\n",
    "    code = row[0]\n",
    "    prepared_query = query % code\n",
    "    #print(prepared_query)\n",
    "    cur2 = conn.cursor()\n",
    "    cur2.execute(prepared_query)\n",
    "    print(f\"Species {code} has {cur2.fetchone()[0]} nests\")\n",
    "    cur2.close()"
   ]
  },
  {
   "cell_type": "code",
   "execution_count": 45,
   "id": "3f22ab75-8b23-4830-b5d3-4738f09382d5",
   "metadata": {
    "tags": []
   },
   "outputs": [
    {
     "name": "stdout",
     "output_type": "stream",
     "text": [
      "Species agsq has 0 nests\n",
      "Species amcr has 0 nests\n",
      "Species amgp has 29 nests\n"
     ]
    }
   ],
   "source": [
    "query = \"\"\"\n",
    "    SELECT COUNT(*) FROM Bird_nests\n",
    "    WHERE Species = ?\n",
    "\"\"\"\n",
    "cur.execute(\"SELECT Code FROM Species LIMIT 3\")\n",
    "for row in cur.fetchall(): #duckdb workaround\n",
    "    code = row[0]\n",
    "    # not needed! prepared_query = query % code\n",
    "    #print(prepared_query)\n",
    "    cur2 = conn.cursor()\n",
    "    cur2.execute(query, [code]) #<---- added argument here\n",
    "    print(f\"Species {code} has {cur2.fetchone()[0]} nests\")\n",
    "    cur2.close()"
   ]
  },
  {
   "cell_type": "markdown",
   "id": "090e2bd2-ddcf-4aac-9a02-2c6b1158473c",
   "metadata": {},
   "source": [
    "Let's illustrate the danger with a different example"
   ]
  },
  {
   "cell_type": "code",
   "execution_count": 47,
   "id": "eab89904-fd37-476a-a85d-1aa5f9b07b5b",
   "metadata": {
    "tags": []
   },
   "outputs": [
    {
     "ename": "ConstraintException",
     "evalue": "Constraint Error: Duplicate key \"Abbreviation: TS\" violates primary key constraint. If this is an unexpected constraint violation please double check with the known index limitations section in our documentation (https://duckdb.org/docs/sql/indexes).",
     "output_type": "error",
     "traceback": [
      "\u001b[0;31m---------------------------------------------------------------------------\u001b[0m",
      "\u001b[0;31mConstraintException\u001b[0m                       Traceback (most recent call last)",
      "\u001b[0;32m/tmp/ipykernel_770342/61536668.py\u001b[0m in \u001b[0;36m<module>\u001b[0;34m\u001b[0m\n\u001b[1;32m      4\u001b[0m     \u001b[0mINSERT\u001b[0m \u001b[0mINTO\u001b[0m \u001b[0mPersonnel\u001b[0m \u001b[0;34m(\u001b[0m\u001b[0mAbbreviation\u001b[0m\u001b[0;34m,\u001b[0m \u001b[0mName\u001b[0m\u001b[0;34m)\u001b[0m\u001b[0;34m\u001b[0m\u001b[0;34m\u001b[0m\u001b[0m\n\u001b[1;32m      5\u001b[0m     \u001b[0mVALUES\u001b[0m \u001b[0;34m(\u001b[0m\u001b[0;34m'%s'\u001b[0m\u001b[0;34m,\u001b[0m \u001b[0;34m'%s'\u001b[0m\u001b[0;34m)\u001b[0m\u001b[0;34m\u001b[0m\u001b[0;34m\u001b[0m\u001b[0m\n\u001b[0;32m----> 6\u001b[0;31m     \"\"\" % (abbrev, name)\n\u001b[0m\u001b[1;32m      7\u001b[0m            )\n",
      "\u001b[0;31mConstraintException\u001b[0m: Constraint Error: Duplicate key \"Abbreviation: TS\" violates primary key constraint. If this is an unexpected constraint violation please double check with the known index limitations section in our documentation (https://duckdb.org/docs/sql/indexes)."
     ]
    }
   ],
   "source": [
    "abbrev = \"TS\"\n",
    "name = \"Taylor Swift\"\n",
    "cur.execute(\"\"\"\n",
    "    INSERT INTO Personnel (Abbreviation, Name)\n",
    "    VALUES ('%s', '%s')\n",
    "    \"\"\" % (abbrev, name)\n",
    "           )"
   ]
  },
  {
   "cell_type": "code",
   "execution_count": null,
   "id": "3bc619ff-582d-4342-9567-df884c9975a0",
   "metadata": {},
   "outputs": [],
   "source": []
  },
  {
   "cell_type": "code",
   "execution_count": null,
   "id": "f7f230f8-5cea-431b-9ccd-dc2af8a79ac7",
   "metadata": {},
   "outputs": [],
   "source": [
    "abbrev = \"CO\"\n",
    "name = \"Conan O'Brien\"\n",
    "cur.execute(\"\"\"\n",
    "    INSERT INTO Personnel (Abbreviation, Name)\n",
    "    VALUES ('%s', '%s')\n",
    "    \"\"\" % (abbrev, name)\n",
    "           )"
   ]
  }
 ],
 "metadata": {
  "kernelspec": {
   "display_name": "Python 3 (ipykernel)",
   "language": "python",
   "name": "python3"
  },
  "language_info": {
   "codemirror_mode": {
    "name": "ipython",
    "version": 3
   },
   "file_extension": ".py",
   "mimetype": "text/x-python",
   "name": "python",
   "nbconvert_exporter": "python",
   "pygments_lexer": "ipython3",
   "version": "3.7.13"
  }
 },
 "nbformat": 4,
 "nbformat_minor": 5
}
