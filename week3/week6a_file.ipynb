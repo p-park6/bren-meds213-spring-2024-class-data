{
 "cells": [
  {
   "cell_type": "code",
   "execution_count": 1,
   "id": "45d33618-7f68-47de-8165-e3c640d56bbc",
   "metadata": {
    "tags": []
   },
   "outputs": [],
   "source": [
    "import duckdb"
   ]
  },
  {
   "cell_type": "markdown",
   "id": "a4bc68aa-1790-4b00-abde-f96b45afe828",
   "metadata": {},
   "source": [
    "Example of Jupyter \"magic command\":"
   ]
  },
  {
   "cell_type": "code",
   "execution_count": 2,
   "id": "f3a95202-0d36-42bd-8755-f5fafe2f0a9c",
   "metadata": {
    "tags": []
   },
   "outputs": [
    {
     "data": {
      "text/plain": [
       "'/Users/p_park/spring_2024/eds_213_data/bren-meds213-spring-2024-class-data/week3'"
      ]
     },
     "execution_count": 2,
     "metadata": {},
     "output_type": "execute_result"
    }
   ],
   "source": [
    "%pwd"
   ]
  },
  {
   "cell_type": "code",
   "execution_count": 3,
   "id": "358b1dbd-520e-4b91-8d4c-1aec31563670",
   "metadata": {},
   "outputs": [
    {
     "name": "stdout",
     "output_type": "stream",
     "text": [
      "01_ASDN_Readme.txt        \u001b[0m\u001b[01;32mbuild-database\u001b[0m*          species.csv\n",
      "ASDN_Bird_eggs.csv        database.db              sql-continued.sql\n",
      "ASDN_Bird_nests.csv       database.db.wal          theloop.sh\n",
      "ASDN_Camp_assignment.csv  personnel.csv            week6a_file.ipynb\n",
      "\u001b[01;34mHW\u001b[0m/                       schema-build-script.sql  week6b_file.ipynb\n",
      "addition.sh               script_2.sql\n",
      "asdn-er-diagram.png       site.csv\n"
     ]
    }
   ],
   "source": [
    "%ls"
   ]
  },
  {
   "cell_type": "markdown",
   "id": "05587179-c2d4-4350-a320-667bb975e05e",
   "metadata": {},
   "source": [
    "To install Duckdb module:"
   ]
  },
  {
   "cell_type": "code",
   "execution_count": 4,
   "id": "46e8e142-c139-4fea-8d5a-49c453608cba",
   "metadata": {
    "tags": []
   },
   "outputs": [],
   "source": [
    "#%pip install duckdb"
   ]
  },
  {
   "cell_type": "markdown",
   "id": "d053531d-ba81-4a69-acf1-1220962b9171",
   "metadata": {},
   "source": [
    "1. Create a connection and a cursor"
   ]
  },
  {
   "cell_type": "code",
   "execution_count": 5,
   "id": "d37b4c04-fec2-4769-b7e4-af4529dc12c1",
   "metadata": {
    "tags": []
   },
   "outputs": [
    {
     "ename": "IOException",
     "evalue": "IO Error: Could not set lock on file \"/Users/p_park/spring_2024/eds_213_data/bren-meds213-spring-2024-class-data/week3/database.db\": Conflicting lock is held in /opt/python/3.7.13/bin/python3.7 (PID 1647904). See also https://duckdb.org/docs/connect/concurrency",
     "output_type": "error",
     "traceback": [
      "\u001b[0;31m---------------------------------------------------------------------------\u001b[0m",
      "\u001b[0;31mIOException\u001b[0m                               Traceback (most recent call last)",
      "\u001b[0;32m/tmp/ipykernel_1647393/1397252725.py\u001b[0m in \u001b[0;36m<module>\u001b[0;34m\u001b[0m\n\u001b[0;32m----> 1\u001b[0;31m \u001b[0mconn\u001b[0m \u001b[0;34m=\u001b[0m \u001b[0mduckdb\u001b[0m\u001b[0;34m.\u001b[0m\u001b[0mconnect\u001b[0m\u001b[0;34m(\u001b[0m\u001b[0;34m\"database.db\"\u001b[0m\u001b[0;34m)\u001b[0m\u001b[0;34m\u001b[0m\u001b[0;34m\u001b[0m\u001b[0m\n\u001b[0m",
      "\u001b[0;31mIOException\u001b[0m: IO Error: Could not set lock on file \"/Users/p_park/spring_2024/eds_213_data/bren-meds213-spring-2024-class-data/week3/database.db\": Conflicting lock is held in /opt/python/3.7.13/bin/python3.7 (PID 1647904). See also https://duckdb.org/docs/connect/concurrency"
     ]
    }
   ],
   "source": [
    "conn = duckdb.connect(\"database.db\")"
   ]
  },
  {
   "cell_type": "code",
   "execution_count": null,
   "id": "db7ca24a-73a3-449c-9d5b-4aa6f8953dd3",
   "metadata": {
    "tags": []
   },
   "outputs": [],
   "source": [
    "conn"
   ]
  },
  {
   "cell_type": "code",
   "execution_count": null,
   "id": "f3053ebe-ea78-497c-91ab-09156d566751",
   "metadata": {
    "tags": []
   },
   "outputs": [],
   "source": [
    "cur = conn.cursor()"
   ]
  },
  {
   "cell_type": "markdown",
   "id": "5cd7d831-3cae-44db-afc2-cefaab3a59a5",
   "metadata": {},
   "source": [
    "Now let's do something with our cursor"
   ]
  },
  {
   "cell_type": "code",
   "execution_count": null,
   "id": "6e77de96-2758-4025-8b86-3a0a74bbf854",
   "metadata": {
    "tags": []
   },
   "outputs": [],
   "source": [
    "cur.execute(\"SELECT * FROM Site LIMIT 5\")"
   ]
  },
  {
   "cell_type": "markdown",
   "id": "d3ee8ec4-03b9-4ea5-90fc-39313489f820",
   "metadata": {},
   "source": [
    "Now we want results... three ways of getting them.\n",
    "\n",
    "1. All results at once"
   ]
  },
  {
   "cell_type": "code",
   "execution_count": null,
   "id": "04d03733-c2ee-47f9-89aa-3f443196c4bc",
   "metadata": {
    "tags": []
   },
   "outputs": [],
   "source": [
    "cur.fetchall()"
   ]
  },
  {
   "cell_type": "markdown",
   "id": "32818ac1-7d6a-4f42-936d-40080ede762a",
   "metadata": {},
   "source": [
    "Cursors don't store anything, they just transfer queries to the database ang get results back."
   ]
  },
  {
   "cell_type": "code",
   "execution_count": null,
   "id": "350134e6-5d47-494b-8f2a-52f33ee4c9b3",
   "metadata": {
    "tags": []
   },
   "outputs": [],
   "source": [
    "cur.fetchall()"
   ]
  },
  {
   "cell_type": "code",
   "execution_count": null,
   "id": "8b8f0520-cf99-4bb6-8e85-57751faaff41",
   "metadata": {
    "tags": []
   },
   "outputs": [],
   "source": [
    "cur.execute(\"SELECT Nest_ID FROM Bird_nests LIMIT 10\")"
   ]
  },
  {
   "cell_type": "code",
   "execution_count": null,
   "id": "7a1005d8-249a-4158-9242-05bdb953bd00",
   "metadata": {
    "tags": []
   },
   "outputs": [],
   "source": [
    "cur.fetchall()"
   ]
  },
  {
   "cell_type": "code",
   "execution_count": null,
   "id": "8bbe08db-e3b2-4aba-a2fb-702a4328fe47",
   "metadata": {
    "tags": []
   },
   "outputs": [],
   "source": [
    "cur.execute(\"SELECT Nest_ID FROM Bird_nests LIMIT 10\")\n",
    "[t[0] for t in cur.fetchall()]\n",
    "\n",
    "#how to read: for each tuple 't', in cur.fetchall(), give me the first element."
   ]
  },
  {
   "cell_type": "markdown",
   "id": "d59317e6-803b-482f-91f1-f172979f4bcc",
   "metadata": {},
   "source": [
    "2. Get the one result, or the next result"
   ]
  },
  {
   "cell_type": "code",
   "execution_count": null,
   "id": "9ab166ce-bd24-472a-a553-62592fc78fda",
   "metadata": {
    "tags": []
   },
   "outputs": [],
   "source": [
    "cur.execute(\"SELECT COUNT(*) FROM Bird_nests\")\n",
    "cur.fetchone()"
   ]
  },
  {
   "cell_type": "code",
   "execution_count": null,
   "id": "da77ca60-ecec-42c7-bbf4-a0ac2d462151",
   "metadata": {
    "tags": []
   },
   "outputs": [],
   "source": [
    "cur.execute(\"SELECT COUNT(*) FROM Bird_nests\")\n",
    "cur.fetchone()[0]"
   ]
  },
  {
   "cell_type": "markdown",
   "id": "60a90957-f24a-459b-94ce-61ba84b6fb80",
   "metadata": {},
   "source": [
    "3. Using an iterator - but Duckdb doesn't support iterators :("
   ]
  },
  {
   "cell_type": "code",
   "execution_count": null,
   "id": "8b82ed3b-c5ea-455f-a093-78e98209970a",
   "metadata": {
    "tags": []
   },
   "outputs": [],
   "source": [
    "cur.execute(\"SELECT Nest_ID FROM Bird_nests LIMIT 10\")\n",
    "for row in cur:\n",
    "    print(f\"got {row[0]}\")\n",
    "#this does not work"
   ]
  },
  {
   "cell_type": "code",
   "execution_count": null,
   "id": "c7276466-c4f5-4d11-a78c-d56ab2faa894",
   "metadata": {
    "tags": []
   },
   "outputs": [],
   "source": [
    "cur.execute(\"SELECT Nest_ID FROM Bird_nests LIMIT 10\")\n",
    "while True:\n",
    "    row = cur.fetchone()\n",
    "    if row == None:\n",
    "        break\n",
    "    #do something with row\n",
    "    print(f\"got nest ID {row[0]}\")"
   ]
  },
  {
   "cell_type": "markdown",
   "id": "7bb3f2c2-9eb0-4b10-9959-317c1793e29a",
   "metadata": {},
   "source": [
    "Can do things other than SELECT!"
   ]
  },
  {
   "cell_type": "code",
   "execution_count": null,
   "id": "a29a6568-aec0-4ebc-9126-15450d2c8f2a",
   "metadata": {
    "tags": []
   },
   "outputs": [],
   "source": [
    "cur.execute(\"\"\"\n",
    "    CREATE TEMP TABLE temp_table AS\n",
    "    SELECT * FROM Bird_nests LIMIT 10\n",
    "\"\"\")"
   ]
  },
  {
   "cell_type": "code",
   "execution_count": null,
   "id": "21a9388c-2fcc-4157-bcbe-cbd91372eec2",
   "metadata": {
    "tags": []
   },
   "outputs": [],
   "source": [
    "cur.execute(\"SELECT * FROM temp_table\")"
   ]
  },
  {
   "cell_type": "code",
   "execution_count": null,
   "id": "b547a8ed-eef7-4b26-a521-d372fe92f34e",
   "metadata": {
    "tags": []
   },
   "outputs": [],
   "source": [
    "cur.fetchall()"
   ]
  },
  {
   "cell_type": "markdown",
   "id": "f8fd0c32-40fd-4a30-93ea-c7108996de13",
   "metadata": {},
   "source": [
    "A note on fragility\n",
    "\n",
    "For example:\n",
    "INSERT INTO Site VALUES (\"abcd\", \"FOO\", 35.7, -119.5, \"?\")\n",
    "\n",
    "A less fragile way of expressing the same thing:\n",
    "INSERT INTO Site (Code, Site_name, Latitude, Longitude, Something_else)\n",
    "    VALUES (\"abcd\", \"FOO\", 35.7, -119.5, \"?\")\n",
    "    \n",
    "In the same vein: SELECT * is fragile"
   ]
  },
  {
   "cell_type": "code",
   "execution_count": null,
   "id": "1a9b0d25-f8e7-4034-bb8d-470dc649b2f0",
   "metadata": {
    "tags": []
   },
   "outputs": [],
   "source": [
    "cur.execute(\"SELECT * FROM Site LIMIT 3\")\n",
    "cur.fetchall()"
   ]
  },
  {
   "cell_type": "code",
   "execution_count": null,
   "id": "016dfa0d-492a-4574-8b7d-4ce78e2ec00c",
   "metadata": {
    "tags": []
   },
   "outputs": [],
   "source": [
    "cur.execute(\"SELECT Site_name, Code, Latitude, Longitude, FROM Site LIMIT 3\")\n",
    "cur.fetchall()"
   ]
  },
  {
   "cell_type": "markdown",
   "id": "176cee17-af77-4acf-b2f6-bed2cc2d9d93",
   "metadata": {},
   "source": [
    "An extended example: Question we're trying to answer: How many nests do we have for each species?\n",
    "\n",
    "Approach: first get all species. Then execute a count query for each species."
   ]
  },
  {
   "cell_type": "markdown",
   "id": "f8f28a8c-4d86-4179-9408-ca7ec6cef7e2",
   "metadata": {},
   "source": [
    "A digression: string interpolation in Python"
   ]
  },
  {
   "cell_type": "code",
   "execution_count": null,
   "id": "cb4f30af-0f7d-4274-96df-0968a8abc162",
   "metadata": {
    "tags": []
   },
   "outputs": [],
   "source": [
    "s = \"My name is %s\"\n",
    "print(s % \"Patty\")\n",
    "\n",
    "s = \"My name is %s and my professor's name is %s\"\n",
    "print(s % (\"Patty\", \"Greg\"))\n",
    "\n",
    "#the new f-string\n",
    "name = \"Patty\"\n",
    "print(f\"My name is {name}\")\n",
    "#Third way\n",
    "print(\"My name is {}\".format(\"Patty\"))"
   ]
  },
  {
   "cell_type": "code",
   "execution_count": null,
   "id": "052478cc-c3e0-47de-b3e3-b9768109778d",
   "metadata": {
    "tags": []
   },
   "outputs": [],
   "source": [
    "query = \"\"\"\n",
    "    SELECT COUNT(*) FROM Bird_nests\n",
    "    WHERE Species = '%s'\n",
    "\"\"\"\n",
    "cur.execute(\"SELECT Code FROM Species LIMIT 3\")\n",
    "for row in cur.fetchall(): #duckdb workaround\n",
    "    code = row[0]\n",
    "    prepared_query = query % code\n",
    "    #print(prepared_query)\n",
    "    cur2 = conn.cursor()\n",
    "    cur2.execute(prepared_query)\n",
    "    print(f\"Species {code} has {cur2.fetchone()[0]} nests\")\n",
    "    cur2.close()"
   ]
  },
  {
   "cell_type": "code",
   "execution_count": null,
   "id": "3f22ab75-8b23-4830-b5d3-4738f09382d5",
   "metadata": {
    "tags": []
   },
   "outputs": [],
   "source": [
    "query = \"\"\"\n",
    "    SELECT COUNT(*) FROM Bird_nests\n",
    "    WHERE Species = ?\n",
    "\"\"\"\n",
    "cur.execute(\"SELECT Code FROM Species LIMIT 3\")\n",
    "for row in cur.fetchall(): #duckdb workaround\n",
    "    code = row[0]\n",
    "    # not needed! prepared_query = query % code\n",
    "    #print(prepared_query)\n",
    "    cur2 = conn.cursor()\n",
    "    cur2.execute(query, [code]) #<---- added argument here\n",
    "    print(f\"Species {code} has {cur2.fetchone()[0]} nests\")\n",
    "    cur2.close()"
   ]
  },
  {
   "cell_type": "markdown",
   "id": "090e2bd2-ddcf-4aac-9a02-2c6b1158473c",
   "metadata": {},
   "source": [
    "Let's illustrate the danger with a different example"
   ]
  },
  {
   "cell_type": "code",
   "execution_count": null,
   "id": "eab89904-fd37-476a-a85d-1aa5f9b07b5b",
   "metadata": {
    "tags": []
   },
   "outputs": [],
   "source": [
    "abbrev = \"TS\"\n",
    "name = \"Taylor Swift\"\n",
    "cur.execute(\"\"\"\n",
    "    INSERT INTO Personnel (Abbreviation, Name)\n",
    "    VALUES ('%s', '%s')\n",
    "    \"\"\" % (abbrev, name)\n",
    "           )"
   ]
  },
  {
   "cell_type": "code",
   "execution_count": null,
   "id": "3bc619ff-582d-4342-9567-df884c9975a0",
   "metadata": {
    "tags": []
   },
   "outputs": [],
   "source": [
    "cur.execute(\"SELECT * FROM Personnel\")\n",
    "cur.fetchall()[-3:]"
   ]
  },
  {
   "cell_type": "code",
   "execution_count": null,
   "id": "f7f230f8-5cea-431b-9ccd-dc2af8a79ac7",
   "metadata": {
    "tags": []
   },
   "outputs": [],
   "source": [
    "abbrev = \"CO\"\n",
    "name = \"Conan O'Brien\"\n",
    "cur.execute(\"\"\"\n",
    "    INSERT INTO Personnel (Abbreviation, Name)\n",
    "    VALUES ('%s', '%s')\n",
    "    \"\"\" % (abbrev, name)\n",
    "           )"
   ]
  },
  {
   "cell_type": "code",
   "execution_count": null,
   "id": "cae8c2c2-49cd-4b11-a4e7-73ae112d1b5e",
   "metadata": {
    "tags": []
   },
   "outputs": [],
   "source": [
    "cur.execute(\"SELECT * FROM Personnel\")\n",
    "cur.fetchall()[-3:]"
   ]
  },
  {
   "cell_type": "code",
   "execution_count": null,
   "id": "e00b6d19-4db5-45cc-abfb-b5bea55abbe4",
   "metadata": {
    "tags": []
   },
   "outputs": [],
   "source": [
    "abbrev = \"CO\"\n",
    "name = \"Conan O'Brien\"\n",
    "cur.execute(\"\"\"\n",
    "    INSERT INTO Personnel (Abbreviation, Name)\n",
    "    VALUES (?, ?)\n",
    "    \"\"\" % [abbrev, name]\n",
    "           )"
   ]
  },
  {
   "cell_type": "code",
   "execution_count": null,
   "id": "970cd272-e2ed-45ac-bc2a-abcb74299209",
   "metadata": {},
   "outputs": [],
   "source": [
    "\"\"\"\n",
    "   INSERT INTO Personnel (Abbreviation, Name)\n",
    "   VALUES ('%s', '%s')\n",
    "   \"\"\" % (abbrev, name)"
   ]
  },
  {
   "cell_type": "code",
   "execution_count": null,
   "id": "dbb47555-1822-47d4-aea0-efb565d5295b",
   "metadata": {},
   "outputs": [],
   "source": [
    "abbrev = \"CO\"\n",
    "name = \"Conan O'Brien\"\n",
    "cur.execute(\"\"\"\n",
    "   INSERT INTO Personnel (Abbreviation, Name)\n",
    "   VALUES (?, ?)\n",
    "   \"\"\",\n",
    "    [abbrev, name])"
   ]
  },
  {
   "cell_type": "code",
   "execution_count": null,
   "id": "355649a2-bcd9-4b29-91b0-d7109e09e910",
   "metadata": {
    "tags": []
   },
   "outputs": [],
   "source": [
    "cur.execute(\"SELECT * FROM Personnel\")\n",
    "cur.fetchall()[-3:]"
   ]
  }
 ],
 "metadata": {
  "kernelspec": {
   "display_name": "Python 3 (ipykernel)",
   "language": "python",
   "name": "python3"
  },
  "language_info": {
   "codemirror_mode": {
    "name": "ipython",
    "version": 3
   },
   "file_extension": ".py",
   "mimetype": "text/x-python",
   "name": "python",
   "nbconvert_exporter": "python",
   "pygments_lexer": "ipython3",
   "version": "3.7.13"
  }
 },
 "nbformat": 4,
 "nbformat_minor": 5
}
